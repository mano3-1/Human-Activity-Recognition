{
  "nbformat": 4,
  "nbformat_minor": 0,
  "metadata": {
    "colab": {
      "name": "downloading_dataset.ipynb",
      "provenance": [],
      "collapsed_sections": []
    },
    "kernelspec": {
      "name": "python3",
      "display_name": "Python 3"
    }
  },
  "cells": [
    {
      "cell_type": "markdown",
      "metadata": {
        "id": "XO7pxJygnHDs",
        "colab_type": "text"
      },
      "source": [
        "#Importing required libraries\n",
        "Note: I was doing this in the google colab notebook.So mounted by google drive.In case if you are doing this in your local machine, the respective directories are to be changed accordingly"
      ]
    },
    {
      "cell_type": "code",
      "metadata": {
        "id": "vlGvpRkghrR4",
        "colab_type": "code",
        "outputId": "1f98c666-a352-4fc1-a162-5f1ed3c040ad",
        "colab": {
          "base_uri": "https://localhost:8080/",
          "height": 33
        }
      },
      "source": [
        "from google.colab import drive\n",
        "import requests"
      ],
      "execution_count": 0,
      "outputs": [
        {
          "output_type": "stream",
          "text": [
            "Drive already mounted at /content/gdrive; to attempt to forcibly remount, call drive.mount(\"/content/gdrive\", force_remount=True).\n"
          ],
          "name": "stdout"
        }
      ]
    },
    {
      "cell_type": "code",
      "metadata": {
        "id": "UWPcSoRDnPBe",
        "colab_type": "code",
        "colab": {}
      },
      "source": [
        "drive.mount('/content/gdrive')"
      ],
      "execution_count": 0,
      "outputs": []
    },
    {
      "cell_type": "markdown",
      "metadata": {
        "id": "ObAHO14Fn9br",
        "colab_type": "text"
      },
      "source": [
        "This below code will download the dataset from URL that was pasted at 'file_url'"
      ]
    },
    {
      "cell_type": "code",
      "metadata": {
        "id": "HufozgX1hwMq",
        "colab_type": "code",
        "colab": {}
      },
      "source": [
        "file_url = \"https://www.crcv.ucf.edu/data/UCF101/UCF101.rar\"\n",
        "    \n",
        "r = requests.get(file_url, stream = True)  \n",
        "  \n",
        "with open(\"/content/gdrive/My Drive/NIH.zip\", \"wb\") as file:  \n",
        "    for block in r.iter_content(chunk_size = 1024): \n",
        "         if block:  \n",
        "             file.write(block)  "
      ],
      "execution_count": 0,
      "outputs": []
    },
    {
      "cell_type": "code",
      "metadata": {
        "id": "wMdWU5XyiA2S",
        "colab_type": "code",
        "colab": {}
      },
      "source": [
        ""
      ],
      "execution_count": 0,
      "outputs": []
    }
  ]
}