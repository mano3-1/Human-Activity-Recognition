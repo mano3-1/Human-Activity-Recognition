{
  "nbformat": 4,
  "nbformat_minor": 0,
  "metadata": {
    "colab": {
      "name": "HAR.ipynb",
      "provenance": []
    },
    "kernelspec": {
      "name": "python3",
      "display_name": "Python 3"
    }
  },
  "cells": [
    {
      "cell_type": "markdown",
      "metadata": {
        "id": "VBKWNbT_j8vX",
        "colab_type": "text"
      },
      "source": [
        "Importing dependencies"
      ]
    },
    {
      "cell_type": "code",
      "metadata": {
        "id": "Smbi4XOrj9Tk",
        "colab_type": "code",
        "colab": {}
      },
      "source": [
        "import os\n",
        "import cv2\n",
        "from google.colab import drive"
      ],
      "execution_count": 0,
      "outputs": []
    },
    {
      "cell_type": "markdown",
      "metadata": {
        "id": "fDUl-VnfkIzi",
        "colab_type": "text"
      },
      "source": [
        "Mounting the google drive(this step is only applicable only to people who are using google colab)"
      ]
    },
    {
      "cell_type": "code",
      "metadata": {
        "id": "kHIafC-E_3JP",
        "colab_type": "code",
        "outputId": "244d5d9a-8a58-497b-f7e6-ce92de0117c5",
        "colab": {
          "base_uri": "https://localhost:8080/",
          "height": 33
        }
      },
      "source": [
        "drive.mount('/content/gdrive')"
      ],
      "execution_count": 0,
      "outputs": [
        {
          "output_type": "stream",
          "text": [
            "Drive already mounted at /content/gdrive; to attempt to forcibly remount, call drive.mount(\"/content/gdrive\", force_remount=True).\n"
          ],
          "name": "stdout"
        }
      ]
    },
    {
      "cell_type": "markdown",
      "metadata": {
        "id": "X6ezefPJkUqJ",
        "colab_type": "text"
      },
      "source": [
        "This piece of code will store all the different actions that are available in the UCF dataset.<br/>\n",
        "Note:<br/>\n",
        "The paths are to be manipulated accordingly.."
      ]
    },
    {
      "cell_type": "code",
      "metadata": {
        "id": "erH4Rntg_9I_",
        "colab_type": "code",
        "colab": {}
      },
      "source": [
        "path = '/content/gdrive/My Drive/posenet-action recognition/UCF-101'\n",
        "actions = os.listdir(path)"
      ],
      "execution_count": 0,
      "outputs": []
    },
    {
      "cell_type": "code",
      "metadata": {
        "id": "ZPdq-PA6AyZd",
        "colab_type": "code",
        "outputId": "0c6508cd-f91e-407b-f297-be729921209e",
        "colab": {
          "base_uri": "https://localhost:8080/",
          "height": 1000
        }
      },
      "source": [
        "actions"
      ],
      "execution_count": 0,
      "outputs": [
        {
          "output_type": "execute_result",
          "data": {
            "text/plain": [
              "['BreastStroke',\n",
              " 'CleanAndJerk',\n",
              " 'Fencing',\n",
              " 'HighJump',\n",
              " 'HulaHoop',\n",
              " 'JavelinThrow',\n",
              " 'JumpingJack',\n",
              " 'BlowDryHair',\n",
              " 'BodyWeightSquats',\n",
              " 'Bowling',\n",
              " 'PlayingPiano',\n",
              " 'PlayingViolin',\n",
              " 'BoxingSpeedBag',\n",
              " 'PommelHorse',\n",
              " 'BrushingTeeth',\n",
              " 'CliffDiving',\n",
              " 'Punch',\n",
              " 'CricketBowling',\n",
              " 'CricketShot',\n",
              " 'CuttingInKitchen',\n",
              " 'FieldHockeyPenalty',\n",
              " 'Rowing',\n",
              " 'SalsaSpin',\n",
              " 'FloorGymnastics',\n",
              " 'SkateBoarding',\n",
              " 'FrisbeeCatch',\n",
              " 'FrontCrawl',\n",
              " 'Skijet',\n",
              " 'Haircut',\n",
              " 'Hammering',\n",
              " 'TaiChi',\n",
              " 'HammerThrow',\n",
              " 'HandstandPushups',\n",
              " 'HandstandWalking',\n",
              " 'TrampolineJumping',\n",
              " 'VolleyballSpiking',\n",
              " 'HeadMassage',\n",
              " 'WalkingWithDog',\n",
              " 'YoYo',\n",
              " 'IceDancing',\n",
              " 'Knitting',\n",
              " 'LongJump',\n",
              " 'MoppingFloor',\n",
              " 'ParallelBars',\n",
              " 'PlayingCello',\n",
              " 'PlayingDaf',\n",
              " 'PlayingDhol',\n",
              " 'PlayingSitar',\n",
              " 'Rafting',\n",
              " 'ShavingBeard',\n",
              " 'SkyDiving',\n",
              " 'StillRings',\n",
              " 'SumoWrestling',\n",
              " 'Surfing',\n",
              " 'TableTennisShot',\n",
              " 'Typing',\n",
              " 'UnevenBars',\n",
              " 'WallPushups',\n",
              " 'WritingOnBoard',\n",
              " 'Billiards',\n",
              " 'JumpRope',\n",
              " 'Nunchucks',\n",
              " 'PlayingTabla',\n",
              " 'PushUps',\n",
              " 'RockClimbingIndoor',\n",
              " 'PullUps',\n",
              " 'Diving',\n",
              " 'GolfSwing',\n",
              " 'HorseRiding',\n",
              " 'JugglingBalls',\n",
              " 'Kayaking',\n",
              " 'Lunges',\n",
              " 'Mixing',\n",
              " 'PizzaTossing',\n",
              " 'PoleVault',\n",
              " 'RopeClimbing',\n",
              " 'Skiing',\n",
              " 'SoccerJuggling',\n",
              " 'Swing',\n",
              " 'TennisSwing',\n",
              " 'ThrowDiscus',\n",
              " 'BoxingPunchingBag',\n",
              " 'Shotput',\n",
              " 'HorseRace',\n",
              " 'MilitaryParade',\n",
              " 'Drumming',\n",
              " 'PlayingGuitar',\n",
              " 'PlayingFlute',\n",
              " 'BlowingCandles',\n",
              " 'SoccerPenalty',\n",
              " 'ApplyEyeMakeup',\n",
              " 'ApplyLipstick',\n",
              " 'Archery',\n",
              " 'BabyCrawling',\n",
              " 'BalanceBeam',\n",
              " 'BandMarching',\n",
              " 'BaseballPitch',\n",
              " 'Basketball',\n",
              " 'BasketballDunk',\n",
              " 'BenchPress',\n",
              " 'Biking']"
            ]
          },
          "metadata": {
            "tags": []
          },
          "execution_count": 21
        }
      ]
    },
    {
      "cell_type": "code",
      "metadata": {
        "id": "FTj54SN-A-AA",
        "colab_type": "code",
        "colab": {}
      },
      "source": [
        "train_dir = os.path.join(path ,'BoxingPunchingBag')\n",
        "videos = os.listdir(train_dir)"
      ],
      "execution_count": 0,
      "outputs": []
    },
    {
      "cell_type": "code",
      "metadata": {
        "id": "TC6VdwFOYLmc",
        "colab_type": "code",
        "outputId": "9976237f-fc63-4fd5-d266-d8db2cb9fd88",
        "colab": {
          "base_uri": "https://localhost:8080/",
          "height": 33
        }
      },
      "source": [
        "len(videos)"
      ],
      "execution_count": 0,
      "outputs": [
        {
          "output_type": "execute_result",
          "data": {
            "text/plain": [
              "163"
            ]
          },
          "metadata": {
            "tags": []
          },
          "execution_count": 23
        }
      ]
    },
    {
      "cell_type": "markdown",
      "metadata": {
        "id": "HY2LUEgomOKL",
        "colab_type": "text"
      },
      "source": [
        "This code splits each video of a class at every 20 frames and saves in a separate folders.<br/>\n",
        "Note:<br/>\n",
        "This code is to be executed once for every class."
      ]
    },
    {
      "cell_type": "code",
      "metadata": {
        "id": "oPUlB8pYBPLj",
        "colab_type": "code",
        "outputId": "ecb920de-49eb-4502-c55f-dbb392fb6fcc",
        "colab": {
          "base_uri": "https://localhost:8080/",
          "height": 1000
        }
      },
      "source": [
        "def get_frames(video_dir):\n",
        "    count = 0\n",
        "    cap = cv2.VideoCapture(video_dir)\n",
        "    while cap.isOpened():\n",
        "        ret ,frame = cap.read()\n",
        "        if ret != True:\n",
        "            break\n",
        "        count = count+1\n",
        "    return count\n",
        "\n",
        "count =0\n",
        "root = '/content/gdrive/My Drive/HAR/punching'\n",
        "for video in videos:\n",
        "    video_dir = os.path.join(train_dir ,video)\n",
        "    no_of_frames = get_frames(video_dir)\n",
        "    no_of_folders = no_of_frames//20\n",
        "    cap = cv2.VideoCapture(video_dir)\n",
        "    while cap.isOpened():\n",
        "        ret ,frame = cap.read()\n",
        "        if count == (no_of_frames//20)*20:\n",
        "            break\n",
        "        if ret != True:\n",
        "            break\n",
        "        if count%20 == 0:\n",
        "            try:\n",
        "                os.mkdir(os.path.join(root ,'folder'+str(count//20)))\n",
        "            except FileExistsError:\n",
        "                print('folder already exists')\n",
        "            save_dir = os.path.join(root ,'folder'+str(count//20))\n",
        "        cv2.imwrite(os.path.join(save_dir ,'file'+str(count%20)+'.jpg') ,frame)\n",
        "        count = count+1\n",
        "    print('{} is done'.format(video))"
      ],
      "execution_count": 0,
      "outputs": [
        {
          "output_type": "stream",
          "text": [
            "v_BoxingPunchingBag_g01_c01.avi is done\n",
            "v_BoxingPunchingBag_g01_c02.avi is done\n",
            "v_BoxingPunchingBag_g01_c03.avi is done\n",
            "v_BoxingPunchingBag_g01_c05.avi is done\n",
            "v_BoxingPunchingBag_g01_c04.avi is done\n",
            "v_BoxingPunchingBag_g01_c06.avi is done\n",
            "v_BoxingPunchingBag_g01_c07.avi is done\n",
            "v_BoxingPunchingBag_g02_c02.avi is done\n",
            "v_BoxingPunchingBag_g02_c03.avi is done\n",
            "v_BoxingPunchingBag_g02_c04.avi is done\n",
            "v_BoxingPunchingBag_g02_c06.avi is done\n",
            "v_BoxingPunchingBag_g02_c05.avi is done\n",
            "v_BoxingPunchingBag_g02_c07.avi is done\n",
            "v_BoxingPunchingBag_g02_c01.avi is done\n",
            "v_BoxingPunchingBag_g03_c01.avi is done\n",
            "v_BoxingPunchingBag_g03_c02.avi is done\n",
            "v_BoxingPunchingBag_g03_c03.avi is done\n",
            "v_BoxingPunchingBag_g03_c04.avi is done\n",
            "v_BoxingPunchingBag_g03_c05.avi is done\n",
            "v_BoxingPunchingBag_g03_c06.avi is done\n",
            "v_BoxingPunchingBag_g03_c07.avi is done\n",
            "v_BoxingPunchingBag_g04_c01.avi is done\n",
            "v_BoxingPunchingBag_g04_c02.avi is done\n",
            "v_BoxingPunchingBag_g04_c03.avi is done\n",
            "v_BoxingPunchingBag_g04_c04.avi is done\n",
            "v_BoxingPunchingBag_g04_c05.avi is done\n",
            "v_BoxingPunchingBag_g04_c06.avi is done\n",
            "v_BoxingPunchingBag_g04_c07.avi is done\n",
            "v_BoxingPunchingBag_g05_c01.avi is done\n",
            "v_BoxingPunchingBag_g05_c03.avi is done\n",
            "v_BoxingPunchingBag_g05_c04.avi is done\n",
            "v_BoxingPunchingBag_g05_c05.avi is done\n",
            "v_BoxingPunchingBag_g05_c06.avi is done\n",
            "v_BoxingPunchingBag_g05_c07.avi is done\n",
            "v_BoxingPunchingBag_g05_c02.avi is done\n",
            "v_BoxingPunchingBag_g06_c01.avi is done\n",
            "v_BoxingPunchingBag_g06_c02.avi is done\n",
            "v_BoxingPunchingBag_g06_c03.avi is done\n",
            "v_BoxingPunchingBag_g06_c04.avi is done\n",
            "v_BoxingPunchingBag_g06_c05.avi is done\n",
            "v_BoxingPunchingBag_g06_c06.avi is done\n",
            "v_BoxingPunchingBag_g06_c07.avi is done\n",
            "v_BoxingPunchingBag_g07_c01.avi is done\n",
            "v_BoxingPunchingBag_g07_c02.avi is done\n",
            "v_BoxingPunchingBag_g07_c03.avi is done\n",
            "v_BoxingPunchingBag_g07_c04.avi is done\n",
            "v_BoxingPunchingBag_g07_c05.avi is done\n",
            "v_BoxingPunchingBag_g07_c06.avi is done\n",
            "v_BoxingPunchingBag_g07_c07.avi is done\n",
            "v_BoxingPunchingBag_g08_c01.avi is done\n",
            "v_BoxingPunchingBag_g08_c02.avi is done\n",
            "v_BoxingPunchingBag_g08_c03.avi is done\n",
            "v_BoxingPunchingBag_g08_c04.avi is done\n",
            "v_BoxingPunchingBag_g08_c05.avi is done\n",
            "v_BoxingPunchingBag_g08_c06.avi is done\n",
            "v_BoxingPunchingBag_g08_c07.avi is done\n",
            "v_BoxingPunchingBag_g09_c01.avi is done\n",
            "v_BoxingPunchingBag_g09_c02.avi is done\n",
            "v_BoxingPunchingBag_g09_c03.avi is done\n",
            "v_BoxingPunchingBag_g09_c04.avi is done\n",
            "v_BoxingPunchingBag_g09_c05.avi is done\n",
            "v_BoxingPunchingBag_g09_c07.avi is done\n",
            "v_BoxingPunchingBag_g09_c06.avi is done\n",
            "v_BoxingPunchingBag_g10_c01.avi is done\n",
            "v_BoxingPunchingBag_g10_c02.avi is done\n",
            "v_BoxingPunchingBag_g10_c03.avi is done\n",
            "v_BoxingPunchingBag_g10_c04.avi is done\n",
            "v_BoxingPunchingBag_g11_c01.avi is done\n",
            "v_BoxingPunchingBag_g11_c02.avi is done\n",
            "v_BoxingPunchingBag_g11_c03.avi is done\n",
            "v_BoxingPunchingBag_g11_c04.avi is done\n",
            "v_BoxingPunchingBag_g11_c05.avi is done\n",
            "v_BoxingPunchingBag_g12_c01.avi is done\n",
            "v_BoxingPunchingBag_g12_c02.avi is done\n",
            "v_BoxingPunchingBag_g12_c03.avi is done\n",
            "v_BoxingPunchingBag_g12_c04.avi is done\n",
            "v_BoxingPunchingBag_g12_c05.avi is done\n",
            "v_BoxingPunchingBag_g12_c06.avi is done\n",
            "v_BoxingPunchingBag_g12_c07.avi is done\n",
            "v_BoxingPunchingBag_g13_c01.avi is done\n",
            "v_BoxingPunchingBag_g13_c02.avi is done\n",
            "v_BoxingPunchingBag_g13_c03.avi is done\n",
            "v_BoxingPunchingBag_g13_c04.avi is done\n",
            "v_BoxingPunchingBag_g14_c01.avi is done\n",
            "v_BoxingPunchingBag_g14_c02.avi is done\n",
            "v_BoxingPunchingBag_g14_c03.avi is done\n",
            "v_BoxingPunchingBag_g14_c04.avi is done\n",
            "v_BoxingPunchingBag_g14_c05.avi is done\n",
            "v_BoxingPunchingBag_g14_c06.avi is done\n",
            "v_BoxingPunchingBag_g14_c07.avi is done\n",
            "v_BoxingPunchingBag_g15_c01.avi is done\n",
            "v_BoxingPunchingBag_g15_c02.avi is done\n",
            "v_BoxingPunchingBag_g15_c03.avi is done\n",
            "v_BoxingPunchingBag_g15_c04.avi is done\n",
            "v_BoxingPunchingBag_g15_c05.avi is done\n",
            "v_BoxingPunchingBag_g15_c06.avi is done\n",
            "v_BoxingPunchingBag_g15_c07.avi is done\n",
            "v_BoxingPunchingBag_g16_c01.avi is done\n",
            "v_BoxingPunchingBag_g16_c02.avi is done\n",
            "v_BoxingPunchingBag_g16_c03.avi is done\n",
            "v_BoxingPunchingBag_g16_c04.avi is done\n",
            "v_BoxingPunchingBag_g16_c05.avi is done\n",
            "v_BoxingPunchingBag_g16_c06.avi is done\n",
            "v_BoxingPunchingBag_g16_c07.avi is done\n",
            "v_BoxingPunchingBag_g17_c01.avi is done\n",
            "v_BoxingPunchingBag_g17_c02.avi is done\n",
            "v_BoxingPunchingBag_g17_c03.avi is done\n",
            "v_BoxingPunchingBag_g17_c04.avi is done\n",
            "v_BoxingPunchingBag_g18_c01.avi is done\n",
            "v_BoxingPunchingBag_g18_c02.avi is done\n",
            "v_BoxingPunchingBag_g18_c03.avi is done\n",
            "v_BoxingPunchingBag_g18_c04.avi is done\n",
            "v_BoxingPunchingBag_g18_c05.avi is done\n",
            "v_BoxingPunchingBag_g18_c06.avi is done\n",
            "v_BoxingPunchingBag_g19_c01.avi is done\n",
            "v_BoxingPunchingBag_g19_c02.avi is done\n",
            "v_BoxingPunchingBag_g19_c03.avi is done\n",
            "v_BoxingPunchingBag_g19_c04.avi is done\n",
            "v_BoxingPunchingBag_g19_c05.avi is done\n",
            "v_BoxingPunchingBag_g19_c06.avi is done\n",
            "v_BoxingPunchingBag_g19_c07.avi is done\n",
            "v_BoxingPunchingBag_g20_c01.avi is done\n",
            "v_BoxingPunchingBag_g20_c02.avi is done\n",
            "v_BoxingPunchingBag_g20_c03.avi is done\n",
            "v_BoxingPunchingBag_g20_c04.avi is done\n",
            "v_BoxingPunchingBag_g20_c05.avi is done\n",
            "v_BoxingPunchingBag_g20_c06.avi is done\n",
            "v_BoxingPunchingBag_g20_c07.avi is done\n",
            "v_BoxingPunchingBag_g21_c01.avi is done\n",
            "v_BoxingPunchingBag_g21_c02.avi is done\n",
            "v_BoxingPunchingBag_g21_c03.avi is done\n",
            "v_BoxingPunchingBag_g21_c04.avi is done\n",
            "v_BoxingPunchingBag_g21_c06.avi is done\n",
            "v_BoxingPunchingBag_g21_c07.avi is done\n",
            "v_BoxingPunchingBag_g21_c05.avi is done\n",
            "v_BoxingPunchingBag_g22_c01.avi is done\n",
            "v_BoxingPunchingBag_g22_c02.avi is done\n",
            "v_BoxingPunchingBag_g22_c03.avi is done\n",
            "v_BoxingPunchingBag_g22_c04.avi is done\n",
            "v_BoxingPunchingBag_g22_c05.avi is done\n",
            "v_BoxingPunchingBag_g22_c06.avi is done\n",
            "v_BoxingPunchingBag_g22_c07.avi is done\n",
            "v_BoxingPunchingBag_g23_c01.avi is done\n",
            "v_BoxingPunchingBag_g23_c02.avi is done\n",
            "v_BoxingPunchingBag_g23_c03.avi is done\n",
            "v_BoxingPunchingBag_g23_c04.avi is done\n",
            "v_BoxingPunchingBag_g23_c05.avi is done\n",
            "v_BoxingPunchingBag_g23_c06.avi is done\n",
            "v_BoxingPunchingBag_g23_c07.avi is done\n",
            "v_BoxingPunchingBag_g24_c01.avi is done\n",
            "v_BoxingPunchingBag_g24_c02.avi is done\n",
            "v_BoxingPunchingBag_g24_c03.avi is done\n",
            "v_BoxingPunchingBag_g24_c04.avi is done\n",
            "v_BoxingPunchingBag_g24_c05.avi is done\n",
            "v_BoxingPunchingBag_g24_c06.avi is done\n",
            "v_BoxingPunchingBag_g24_c07.avi is done\n",
            "v_BoxingPunchingBag_g25_c01.avi is done\n",
            "v_BoxingPunchingBag_g25_c02.avi is done\n",
            "v_BoxingPunchingBag_g25_c03.avi is done\n",
            "v_BoxingPunchingBag_g25_c04.avi is done\n",
            "v_BoxingPunchingBag_g25_c05.avi is done\n",
            "v_BoxingPunchingBag_g25_c06.avi is done\n",
            "v_BoxingPunchingBag_g25_c07.avi is done\n"
          ],
          "name": "stdout"
        }
      ]
    },
    {
      "cell_type": "markdown",
      "metadata": {
        "id": "wl5K1kbfk9-o",
        "colab_type": "text"
      },
      "source": [
        "Change the directory to posenet-python port."
      ]
    },
    {
      "cell_type": "code",
      "metadata": {
        "id": "KUB73MeMZXA4",
        "colab_type": "code",
        "outputId": "ade36c27-b5e0-413d-d1e5-5a3b3505b2e8",
        "colab": {
          "base_uri": "https://localhost:8080/",
          "height": 33
        }
      },
      "source": [
        "%cd '/content/gdrive/My Drive/posenet/posenet-python'"
      ],
      "execution_count": 0,
      "outputs": [
        {
          "output_type": "stream",
          "text": [
            "/content/gdrive/My Drive/posenet/posenet-python\n"
          ],
          "name": "stdout"
        }
      ]
    },
    {
      "cell_type": "markdown",
      "metadata": {
        "id": "7BOPhPwjlWOM",
        "colab_type": "text"
      },
      "source": [
        "This cell is to be run after installing tfjs-to-tf converter(which can be done using the code in below cells)"
      ]
    },
    {
      "cell_type": "code",
      "metadata": {
        "id": "hajfsFngjJgw",
        "colab_type": "code",
        "colab": {}
      },
      "source": [
        "!python image_demo.py --model resnet50 --stride 16 --image_dir /content/gdrive/My\\ Drive/HAR/punching/folder0 --output_dir /content/gdrive/My\\ Drive/pose/folder0"
      ],
      "execution_count": 0,
      "outputs": []
    },
    {
      "cell_type": "code",
      "metadata": {
        "id": "PIHr00E1kLkJ",
        "colab_type": "code",
        "outputId": "556f4d63-8280-416d-b4fb-a9211ba5c3a1",
        "colab": {
          "base_uri": "https://localhost:8080/",
          "height": 134
        }
      },
      "source": [
        "!git clone https://github.com/patlevin/tfjs-to-tf.git \n"
      ],
      "execution_count": 0,
      "outputs": [
        {
          "output_type": "stream",
          "text": [
            "Cloning into 'tfjs-to-tf'...\n",
            "remote: Enumerating objects: 220, done.\u001b[K\n",
            "remote: Counting objects:   0% (1/220)\u001b[K\rremote: Counting objects:   1% (3/220)\u001b[K\rremote: Counting objects:   2% (5/220)\u001b[K\rremote: Counting objects:   3% (7/220)\u001b[K\rremote: Counting objects:   4% (9/220)\u001b[K\rremote: Counting objects:   5% (11/220)\u001b[K\rremote: Counting objects:   6% (14/220)\u001b[K\rremote: Counting objects:   7% (16/220)\u001b[K\rremote: Counting objects:   8% (18/220)\u001b[K\rremote: Counting objects:   9% (20/220)\u001b[K\rremote: Counting objects:  10% (22/220)\u001b[K\rremote: Counting objects:  11% (25/220)\u001b[K\rremote: Counting objects:  12% (27/220)\u001b[K\rremote: Counting objects:  13% (29/220)\u001b[K\rremote: Counting objects:  14% (31/220)\u001b[K\rremote: Counting objects:  15% (33/220)\u001b[K\rremote: Counting objects:  16% (36/220)\u001b[K\rremote: Counting objects:  17% (38/220)\u001b[K\rremote: Counting objects:  18% (40/220)\u001b[K\rremote: Counting objects:  19% (42/220)\u001b[K\rremote: Counting objects:  20% (44/220)\u001b[K\rremote: Counting objects:  21% (47/220)\u001b[K\rremote: Counting objects:  22% (49/220)\u001b[K\rremote: Counting objects:  23% (51/220)\u001b[K\rremote: Counting objects:  24% (53/220)\u001b[K\rremote: Counting objects:  25% (55/220)\u001b[K\rremote: Counting objects:  26% (58/220)\u001b[K\rremote: Counting objects:  27% (60/220)\u001b[K\rremote: Counting objects:  28% (62/220)\u001b[K\rremote: Counting objects:  29% (64/220)\u001b[K\rremote: Counting objects:  30% (66/220)\u001b[K\rremote: Counting objects:  31% (69/220)\u001b[K\rremote: Counting objects:  32% (71/220)\u001b[K\rremote: Counting objects:  33% (73/220)\u001b[K\rremote: Counting objects:  34% (75/220)\u001b[K\rremote: Counting objects:  35% (77/220)\u001b[K\rremote: Counting objects:  36% (80/220)\u001b[K\rremote: Counting objects:  37% (82/220)\u001b[K\rremote: Counting objects:  38% (84/220)\u001b[K\rremote: Counting objects:  39% (86/220)\u001b[K\rremote: Counting objects:  40% (88/220)\u001b[K\rremote: Counting objects:  41% (91/220)\u001b[K\rremote: Counting objects:  42% (93/220)\u001b[K\rremote: Counting objects:  43% (95/220)\u001b[K\rremote: Counting objects:  44% (97/220)\u001b[K\rremote: Counting objects:  45% (99/220)\u001b[K\rremote: Counting objects:  46% (102/220)\u001b[K\rremote: Counting objects:  47% (104/220)\u001b[K\rremote: Counting objects:  48% (106/220)\u001b[K\rremote: Counting objects:  49% (108/220)\u001b[K\rremote: Counting objects:  50% (110/220)\u001b[K\rremote: Counting objects:  51% (113/220)\u001b[K\rremote: Counting objects:  52% (115/220)\u001b[K\rremote: Counting objects:  53% (117/220)\u001b[K\rremote: Counting objects:  54% (119/220)\u001b[K\rremote: Counting objects:  55% (121/220)\u001b[K\rremote: Counting objects:  56% (124/220)\u001b[K\rremote: Counting objects:  57% (126/220)\u001b[K\rremote: Counting objects:  58% (128/220)\u001b[K\rremote: Counting objects:  59% (130/220)\u001b[K\rremote: Counting objects:  60% (132/220)\u001b[K\rremote: Counting objects:  61% (135/220)\u001b[K\rremote: Counting objects:  62% (137/220)\u001b[K\rremote: Counting objects:  63% (139/220)\u001b[K\rremote: Counting objects:  64% (141/220)\u001b[K\rremote: Counting objects:  65% (143/220)\u001b[K\rremote: Counting objects:  66% (146/220)\u001b[K\rremote: Counting objects:  67% (148/220)\u001b[K\rremote: Counting objects:  68% (150/220)\u001b[K\rremote: Counting objects:  69% (152/220)\u001b[K\rremote: Counting objects:  70% (154/220)\u001b[K\rremote: Counting objects:  71% (157/220)\u001b[K\rremote: Counting objects:  72% (159/220)\u001b[K\rremote: Counting objects:  73% (161/220)\u001b[K\rremote: Counting objects:  74% (163/220)\u001b[K\rremote: Counting objects:  75% (165/220)\u001b[K\rremote: Counting objects:  76% (168/220)\u001b[K\rremote: Counting objects:  77% (170/220)\u001b[K\rremote: Counting objects:  78% (172/220)\u001b[K\rremote: Counting objects:  79% (174/220)\u001b[K\rremote: Counting objects:  80% (176/220)\u001b[K\rremote: Counting objects:  81% (179/220)\u001b[K\rremote: Counting objects:  82% (181/220)\u001b[K\rremote: Counting objects:  83% (183/220)\u001b[K\rremote: Counting objects:  84% (185/220)\u001b[K\rremote: Counting objects:  85% (187/220)\u001b[K\rremote: Counting objects:  86% (190/220)\u001b[K\rremote: Counting objects:  87% (192/220)\u001b[K\rremote: Counting objects:  88% (194/220)\u001b[K\rremote: Counting objects:  89% (196/220)\u001b[K\rremote: Counting objects:  90% (198/220)\u001b[K\rremote: Counting objects:  91% (201/220)\u001b[K\rremote: Counting objects:  92% (203/220)\u001b[K\rremote: Counting objects:  93% (205/220)\u001b[K\rremote: Counting objects:  94% (207/220)\u001b[K\rremote: Counting objects:  95% (209/220)\u001b[K\rremote: Counting objects:  96% (212/220)\u001b[K\rremote: Counting objects:  97% (214/220)\u001b[K\rremote: Counting objects:  98% (216/220)\u001b[K\rremote: Counting objects:  99% (218/220)\u001b[K\rremote: Counting objects: 100% (220/220)\u001b[K\rremote: Counting objects: 100% (220/220), done.\u001b[K\n",
            "remote: Compressing objects:   0% (1/113)\u001b[K\rremote: Compressing objects:   1% (2/113)\u001b[K\rremote: Compressing objects:   2% (3/113)\u001b[K\rremote: Compressing objects:   3% (4/113)\u001b[K\rremote: Compressing objects:   4% (5/113)\u001b[K\rremote: Compressing objects:   5% (6/113)\u001b[K\rremote: Compressing objects:   6% (7/113)\u001b[K\rremote: Compressing objects:   7% (8/113)\u001b[K\rremote: Compressing objects:   8% (10/113)\u001b[K\rremote: Compressing objects:   9% (11/113)\u001b[K\rremote: Compressing objects:  10% (12/113)\u001b[K\rremote: Compressing objects:  11% (13/113)\u001b[K\rremote: Compressing objects:  12% (14/113)\u001b[K\rremote: Compressing objects:  13% (15/113)\u001b[K\rremote: Compressing objects:  14% (16/113)\u001b[K\rremote: Compressing objects:  15% (17/113)\u001b[K\rremote: Compressing objects:  16% (19/113)\u001b[K\rremote: Compressing objects:  17% (20/113)\u001b[K\rremote: Compressing objects:  18% (21/113)\u001b[K\rremote: Compressing objects:  19% (22/113)\u001b[K\rremote: Compressing objects:  20% (23/113)\u001b[K\rremote: Compressing objects:  21% (24/113)\u001b[K\rremote: Compressing objects:  22% (25/113)\u001b[K\rremote: Compressing objects:  23% (26/113)\u001b[K\rremote: Compressing objects:  24% (28/113)\u001b[K\rremote: Compressing objects:  25% (29/113)\u001b[K\rremote: Compressing objects:  26% (30/113)\u001b[K\rremote: Compressing objects:  27% (31/113)\u001b[K\rremote: Compressing objects:  28% (32/113)\u001b[K\rremote: Compressing objects:  29% (33/113)\u001b[K\rremote: Compressing objects:  30% (34/113)\u001b[K\rremote: Compressing objects:  31% (36/113)\u001b[K\rremote: Compressing objects:  32% (37/113)\u001b[K\rremote: Compressing objects:  33% (38/113)\u001b[K\rremote: Compressing objects:  34% (39/113)\u001b[K\rremote: Compressing objects:  35% (40/113)\u001b[K\rremote: Compressing objects:  36% (41/113)\u001b[K\rremote: Compressing objects:  37% (42/113)\u001b[K\rremote: Compressing objects:  38% (43/113)\u001b[K\rremote: Compressing objects:  39% (45/113)\u001b[K\rremote: Compressing objects:  40% (46/113)\u001b[K\rremote: Compressing objects:  41% (47/113)\u001b[K\rremote: Compressing objects:  42% (48/113)\u001b[K\rremote: Compressing objects:  43% (49/113)\u001b[K\rremote: Compressing objects:  44% (50/113)\u001b[K\rremote: Compressing objects:  45% (51/113)\u001b[K\rremote: Compressing objects:  46% (52/113)\u001b[K\rremote: Compressing objects:  47% (54/113)\u001b[K\rremote: Compressing objects:  48% (55/113)\u001b[K\rremote: Compressing objects:  49% (56/113)\u001b[K\rremote: Compressing objects:  50% (57/113)\u001b[K\rremote: Compressing objects:  51% (58/113)\u001b[K\rremote: Compressing objects:  52% (59/113)\u001b[K\rremote: Compressing objects:  53% (60/113)\u001b[K\rremote: Compressing objects:  54% (62/113)\u001b[K\rremote: Compressing objects:  55% (63/113)\u001b[K\rremote: Compressing objects:  56% (64/113)\u001b[K\rremote: Compressing objects:  57% (65/113)\u001b[K\rremote: Compressing objects:  58% (66/113)\u001b[K\rremote: Compressing objects:  59% (67/113)\u001b[K\rremote: Compressing objects:  60% (68/113)\u001b[K\rremote: Compressing objects:  61% (69/113)\u001b[K\rremote: Compressing objects:  62% (71/113)\u001b[K\rremote: Compressing objects:  63% (72/113)\u001b[K\rremote: Compressing objects:  64% (73/113)\u001b[K\rremote: Compressing objects:  65% (74/113)\u001b[K\rremote: Compressing objects:  66% (75/113)\u001b[K\rremote: Compressing objects:  67% (76/113)\u001b[K\rremote: Compressing objects:  68% (77/113)\u001b[K\rremote: Compressing objects:  69% (78/113)\u001b[K\rremote: Compressing objects:  70% (80/113)\u001b[K\rremote: Compressing objects:  71% (81/113)\u001b[K\rremote: Compressing objects:  72% (82/113)\u001b[K\rremote: Compressing objects:  73% (83/113)\u001b[K\rremote: Compressing objects:  74% (84/113)\u001b[K\rremote: Compressing objects:  75% (85/113)\u001b[K\rremote: Compressing objects:  76% (86/113)\u001b[K\rremote: Compressing objects:  77% (88/113)\u001b[K\rremote: Compressing objects:  78% (89/113)\u001b[K\rremote: Compressing objects:  79% (90/113)\u001b[K\rremote: Compressing objects:  80% (91/113)\u001b[K\rremote: Compressing objects:  81% (92/113)\u001b[K\rremote: Compressing objects:  82% (93/113)\u001b[K\rremote: Compressing objects:  83% (94/113)\u001b[K\rremote: Compressing objects:  84% (95/113)\u001b[K\rremote: Compressing objects:  85% (97/113)\u001b[K\rremote: Compressing objects:  86% (98/113)\u001b[K\rremote: Compressing objects:  87% (99/113)\u001b[K\rremote: Compressing objects:  88% (100/113)\u001b[K\rremote: Compressing objects:  89% (101/113)\u001b[K\rremote: Compressing objects:  90% (102/113)\u001b[K\rremote: Compressing objects:  91% (103/113)\u001b[K\rremote: Compressing objects:  92% (104/113)\u001b[K\rremote: Compressing objects:  93% (106/113)\u001b[K\rremote: Compressing objects:  94% (107/113)\u001b[K\rremote: Compressing objects:  95% (108/113)\u001b[K\rremote: Compressing objects:  96% (109/113)\u001b[K\rremote: Compressing objects:  97% (110/113)\u001b[K\rremote: Compressing objects:  98% (111/113)\u001b[K\rremote: Compressing objects:  99% (112/113)\u001b[K\rremote: Compressing objects: 100% (113/113)\u001b[K\rremote: Compressing objects: 100% (113/113), done.\u001b[K\n",
            "Receiving objects:   0% (1/220)   \rReceiving objects:   1% (3/220)   \rReceiving objects:   2% (5/220)   \rReceiving objects:   3% (7/220)   \rReceiving objects:   4% (9/220)   \rReceiving objects:   5% (11/220)   \rReceiving objects:   6% (14/220)   \rReceiving objects:   7% (16/220)   \rReceiving objects:   8% (18/220)   \rReceiving objects:   9% (20/220)   \rReceiving objects:  10% (22/220)   \rReceiving objects:  11% (25/220)   \rReceiving objects:  12% (27/220)   \rReceiving objects:  13% (29/220)   \rReceiving objects:  14% (31/220)   \rReceiving objects:  15% (33/220)   \rReceiving objects:  16% (36/220)   \rReceiving objects:  17% (38/220)   \rReceiving objects:  18% (40/220)   \rReceiving objects:  19% (42/220)   \rReceiving objects:  20% (44/220)   \rReceiving objects:  21% (47/220)   \rReceiving objects:  22% (49/220)   \rReceiving objects:  23% (51/220)   \rReceiving objects:  24% (53/220)   \rReceiving objects:  25% (55/220)   \rReceiving objects:  26% (58/220)   \rReceiving objects:  27% (60/220)   \rReceiving objects:  28% (62/220)   \rReceiving objects:  29% (64/220)   \rReceiving objects:  30% (66/220)   \rReceiving objects:  31% (69/220)   \rReceiving objects:  32% (71/220)   \rReceiving objects:  33% (73/220)   \rReceiving objects:  34% (75/220)   \rReceiving objects:  35% (77/220)   \rReceiving objects:  36% (80/220)   \rReceiving objects:  37% (82/220)   \rReceiving objects:  38% (84/220)   \rReceiving objects:  39% (86/220)   \rReceiving objects:  40% (88/220)   \rremote: Total 220 (delta 118), reused 199 (delta 97), pack-reused 0\u001b[K\n",
            "Receiving objects:  41% (91/220)   \rReceiving objects:  42% (93/220)   \rReceiving objects:  43% (95/220)   \rReceiving objects:  44% (97/220)   \rReceiving objects:  45% (99/220)   \rReceiving objects:  46% (102/220)   \rReceiving objects:  47% (104/220)   \rReceiving objects:  48% (106/220)   \rReceiving objects:  49% (108/220)   \rReceiving objects:  50% (110/220)   \rReceiving objects:  51% (113/220)   \rReceiving objects:  52% (115/220)   \rReceiving objects:  53% (117/220)   \rReceiving objects:  54% (119/220)   \rReceiving objects:  55% (121/220)   \rReceiving objects:  56% (124/220)   \rReceiving objects:  57% (126/220)   \rReceiving objects:  58% (128/220)   \rReceiving objects:  59% (130/220)   \rReceiving objects:  60% (132/220)   \rReceiving objects:  61% (135/220)   \rReceiving objects:  62% (137/220)   \rReceiving objects:  63% (139/220)   \rReceiving objects:  64% (141/220)   \rReceiving objects:  65% (143/220)   \rReceiving objects:  66% (146/220)   \rReceiving objects:  67% (148/220)   \rReceiving objects:  68% (150/220)   \rReceiving objects:  69% (152/220)   \rReceiving objects:  70% (154/220)   \rReceiving objects:  71% (157/220)   \rReceiving objects:  72% (159/220)   \rReceiving objects:  73% (161/220)   \rReceiving objects:  74% (163/220)   \rReceiving objects:  75% (165/220)   \rReceiving objects:  76% (168/220)   \rReceiving objects:  77% (170/220)   \rReceiving objects:  78% (172/220)   \rReceiving objects:  79% (174/220)   \rReceiving objects:  80% (176/220)   \rReceiving objects:  81% (179/220)   \rReceiving objects:  82% (181/220)   \rReceiving objects:  83% (183/220)   \rReceiving objects:  84% (185/220)   \rReceiving objects:  85% (187/220)   \rReceiving objects:  86% (190/220)   \rReceiving objects:  87% (192/220)   \rReceiving objects:  88% (194/220)   \rReceiving objects:  89% (196/220)   \rReceiving objects:  90% (198/220)   \rReceiving objects:  91% (201/220)   \rReceiving objects:  92% (203/220)   \rReceiving objects:  93% (205/220)   \rReceiving objects:  94% (207/220)   \rReceiving objects:  95% (209/220)   \rReceiving objects:  96% (212/220)   \rReceiving objects:  97% (214/220)   \rReceiving objects:  98% (216/220)   \rReceiving objects:  99% (218/220)   \rReceiving objects: 100% (220/220)   \rReceiving objects: 100% (220/220), 92.17 KiB | 2.97 MiB/s, done.\n",
            "Resolving deltas:   0% (0/118)   \rResolving deltas:  14% (17/118)   \rResolving deltas:  36% (43/118)   \rResolving deltas:  38% (45/118)   \rResolving deltas:  44% (52/118)   \rResolving deltas:  49% (58/118)   \rResolving deltas:  54% (64/118)   \rResolving deltas:  58% (69/118)   \rResolving deltas:  59% (70/118)   \rResolving deltas:  60% (71/118)   \rResolving deltas:  78% (93/118)   \rResolving deltas:  84% (100/118)   \rResolving deltas:  86% (102/118)   \rResolving deltas:  90% (107/118)   \rResolving deltas:  91% (108/118)   \rResolving deltas:  93% (110/118)   \rResolving deltas:  99% (117/118)   \rResolving deltas: 100% (118/118)   \rResolving deltas: 100% (118/118), done.\n"
          ],
          "name": "stdout"
        }
      ]
    },
    {
      "cell_type": "code",
      "metadata": {
        "id": "r-2U7JoCkaB2",
        "colab_type": "code",
        "colab": {}
      },
      "source": [
        "!pip3 install . --no-deps"
      ],
      "execution_count": 0,
      "outputs": []
    },
    {
      "cell_type": "code",
      "metadata": {
        "id": "YvULtixVlsio",
        "colab_type": "code",
        "colab": {}
      },
      "source": [
        "!pip install tfjs-graph-converter"
      ],
      "execution_count": 0,
      "outputs": []
    },
    {
      "cell_type": "code",
      "metadata": {
        "id": "ixJoAGp5msHg",
        "colab_type": "code",
        "colab": {}
      },
      "source": [
        ""
      ],
      "execution_count": 0,
      "outputs": []
    }
  ]
}