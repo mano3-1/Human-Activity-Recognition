{
  "nbformat": 4,
  "nbformat_minor": 0,
  "metadata": {
    "colab": {
      "name": "pose detection.ipynb",
      "provenance": [],
      "collapsed_sections": []
    },
    "kernelspec": {
      "name": "python3",
      "display_name": "Python 3"
    },
    "accelerator": "GPU"
  },
  "cells": [
    {
      "cell_type": "markdown",
      "metadata": {
        "id": "rTumwdBpsrvr",
        "colab_type": "text"
      },
      "source": [
        "# **Importing required libraries**"
      ]
    },
    {
      "cell_type": "code",
      "metadata": {
        "id": "uy_ONzH0sswX",
        "colab_type": "code",
        "colab": {}
      },
      "source": [
        "import keras \n",
        "import numpy as np\n",
        "import os\n",
        "import random\n",
        "from keras.layers import ConvLSTM2D ,Flatten ,Dense ,Input ,Dropout\n",
        "from google.colab import drive\n",
        "from keras.optimizers import Adam\n",
        "from sklearn.metrics import accuracy_score, precision_score ,recall_score ,f1_score ,roc_auc_score ,confusion_matrix\n",
        "import matplotlib.pyplot as plt\n",
        "from keras.models import Model ,load_model\n",
        "import keras.backend as K"
      ],
      "execution_count": 0,
      "outputs": []
    },
    {
      "cell_type": "markdown",
      "metadata": {
        "id": "oLR9rgFltFtF",
        "colab_type": "text"
      },
      "source": [
        "This line of code is for mounting your drive(people who wants use their colab to train the model)"
      ]
    },
    {
      "cell_type": "code",
      "metadata": {
        "id": "naabO9pCzvR9",
        "colab_type": "code",
        "outputId": "334b574d-a5f5-4c00-af41-4bcdefe5a3d4",
        "colab": {
          "base_uri": "https://localhost:8080/",
          "height": 120
        }
      },
      "source": [
        "drive.mount('/content/gdrive')"
      ],
      "execution_count": 4,
      "outputs": [
        {
          "output_type": "stream",
          "text": [
            "Go to this URL in a browser: https://accounts.google.com/o/oauth2/auth?client_id=947318989803-6bn6qk8qdgf4n4g3pfee6491hc0brc4i.apps.googleusercontent.com&redirect_uri=urn%3aietf%3awg%3aoauth%3a2.0%3aoob&response_type=code&scope=email%20https%3a%2f%2fwww.googleapis.com%2fauth%2fdocs.test%20https%3a%2f%2fwww.googleapis.com%2fauth%2fdrive%20https%3a%2f%2fwww.googleapis.com%2fauth%2fdrive.photos.readonly%20https%3a%2f%2fwww.googleapis.com%2fauth%2fpeopleapi.readonly\n",
            "\n",
            "Enter your authorization code:\n",
            "··········\n",
            "Mounted at /content/gdrive\n"
          ],
          "name": "stdout"
        }
      ]
    },
    {
      "cell_type": "markdown",
      "metadata": {
        "id": "XKBst-f2tSFO",
        "colab_type": "text"
      },
      "source": [
        "Note:the directories are to be changed based on where you save your dataset.<br/>\n",
        "In my case the training set is at the below mentioned directory"
      ]
    },
    {
      "cell_type": "code",
      "metadata": {
        "id": "jM97t0KVzKd3",
        "colab_type": "code",
        "colab": {}
      },
      "source": [
        "train_dir = '/content/gdrive/My Drive/project_pose/pose'\n",
        "classes = os.listdir(train_dir)"
      ],
      "execution_count": 0,
      "outputs": []
    },
    {
      "cell_type": "markdown",
      "metadata": {
        "id": "c-hP3YBZt4S3",
        "colab_type": "text"
      },
      "source": [
        "The below piece of code creates a dictionary which maps the directories of folders with the corresponding labels"
      ]
    },
    {
      "cell_type": "code",
      "metadata": {
        "id": "m9XcgxZRz3Ds",
        "colab_type": "code",
        "colab": {}
      },
      "source": [
        "def create_dict(train_dir ,classes = None):\n",
        "    if classes is None:\n",
        "        classes = os.listdir(train_dir)\n",
        "    counter = 0\n",
        "    dict_ = {}\n",
        "    for i ,class_ in enumerate(classes):\n",
        "        past_counter = counter\n",
        "        print('class {} is {}'.format(i,classes[i]))\n",
        "        class_dir = os.path.join(train_dir ,class_)\n",
        "        folders = os.listdir(class_dir)\n",
        "        for folder in folders:\n",
        "            folder_dir = os.path.join(class_dir ,folder)\n",
        "            counter = counter+1\n",
        "            dict_[folder_dir] = i\n",
        "        print('{} are loaded from class {}'.format(counter-past_counter,i))\n",
        "    print('total of {} arrays are loaded'.format(counter))\n",
        "    return dict_"
      ],
      "execution_count": 0,
      "outputs": []
    },
    {
      "cell_type": "code",
      "metadata": {
        "id": "6U6jXSmn4J1K",
        "colab_type": "code",
        "outputId": "bba48414-3078-4ef0-a11f-6d3ff30f705e",
        "colab": {
          "base_uri": "https://localhost:8080/",
          "height": 134
        }
      },
      "source": [
        "classes = ['drumming' ,'punching' ,'HorseRace']\n",
        "dict_ = create_dict(train_dir ,classes = classes)"
      ],
      "execution_count": 7,
      "outputs": [
        {
          "output_type": "stream",
          "text": [
            "class 0 is drumming\n",
            "1987 are loaded from class 0\n",
            "class 1 is punching\n",
            "1273 are loaded from class 1\n",
            "class 2 is HorseRace\n",
            "1534 are loaded from class 2\n",
            "total of 4794 arrays are loaded\n"
          ],
          "name": "stdout"
        }
      ]
    },
    {
      "cell_type": "markdown",
      "metadata": {
        "id": "s1nIT6EQuQv1",
        "colab_type": "text"
      },
      "source": [
        "As you observe ,there is some class imbalance of our data.<br/>\n",
        "Drumming has quiet a many datapoints followed by punching and the followed by Horse race.<br/>\n",
        "So to deal with the imbalanace ,we use focal loss."
      ]
    },
    {
      "cell_type": "code",
      "metadata": {
        "id": "BxJ1PwC7BVnv",
        "colab_type": "code",
        "colab": {}
      },
      "source": [
        "def my_loss(alpha ,gamma):\n",
        "    def focal_loss(y_true ,y_pred):\n",
        "        y_pred = K.clip(y_pred ,1e-8 ,1-1e-8)\n",
        "        loss = -alpha*y_true*(K.pow((1-y_pred),gamma))*K.log(y_pred)\n",
        "        return loss\n",
        "    return focal_loss"
      ],
      "execution_count": 0,
      "outputs": []
    },
    {
      "cell_type": "markdown",
      "metadata": {
        "id": "tFilYirGuu5r",
        "colab_type": "text"
      },
      "source": [
        "Defining our model"
      ]
    },
    {
      "cell_type": "code",
      "metadata": {
        "id": "f1uYjTpYCwOH",
        "colab_type": "code",
        "outputId": "e2bad915-5d4e-490b-fb14-439b9078bcf2",
        "colab": {
          "base_uri": "https://localhost:8080/",
          "height": 70
        }
      },
      "source": [
        "input_ = Input((20 ,16 ,21 ,17))\n",
        "cl1 = ConvLSTM2D(filters=32, kernel_size=(3, 4) ,activation = 'elu' ,kernel_initializer = 'glorot_uniform' ,return_sequences=True)(input_)\n",
        "Drp1 = Dropout(0.2)(cl1)\n",
        "cl2 = ConvLSTM2D(filters=64, kernel_size=(3, 4) ,activation = 'elu' ,kernel_initializer = 'glorot_uniform' ,return_sequences=True)(Drp1)\n",
        "Drp2 = Dropout(0.2)(cl2)\n",
        "cl3 = ConvLSTM2D(filters=128, kernel_size=(3, 4) ,activation = 'elu' ,kernel_initializer = 'glorot_uniform' ,return_sequences=True)(Drp2)\n",
        "Drp3 = Dropout(0.2)(cl3)\n",
        "cl4 = ConvLSTM2D(filters=256, kernel_size=(2, 4) ,activation = 'elu' ,kernel_initializer = 'glorot_uniform' ,return_sequences=True)(Drp3)\n",
        "Drp4 = Dropout(0.2)(cl4)\n",
        "cl5 = ConvLSTM2D(filters=512, kernel_size=(3, 3) ,activation = 'elu' ,kernel_initializer = 'glorot_uniform' ,return_sequences=True)(Drp4)\n",
        "flatten = Flatten()(cl5)\n",
        "d1 = Dense(256 ,activation = 'elu')(flatten)\n",
        "softmax_layer = Dense(3 ,activation = 'softmax')(d1)\n",
        "model = Model(input = input_ ,output = softmax_layer)\n",
        "model.compile(optimizer = Adam(lr = 0.000001) ,loss = my_loss(2.0 ,3.0) ,metrics = ['acc'])"
      ],
      "execution_count": 9,
      "outputs": [
        {
          "output_type": "stream",
          "text": [
            "/usr/local/lib/python3.6/dist-packages/ipykernel_launcher.py:14: UserWarning: Update your `Model` call to the Keras 2 API: `Model(inputs=Tensor(\"in..., outputs=Tensor(\"de...)`\n",
            "  \n"
          ],
          "name": "stderr"
        }
      ]
    },
    {
      "cell_type": "code",
      "metadata": {
        "id": "qm4M0fohPGQI",
        "colab_type": "code",
        "outputId": "55daa6e5-0e85-46ce-b126-a01d581031a2",
        "colab": {
          "base_uri": "https://localhost:8080/",
          "height": 585
        }
      },
      "source": [
        "model.summary()"
      ],
      "execution_count": 10,
      "outputs": [
        {
          "output_type": "stream",
          "text": [
            "Model: \"model_1\"\n",
            "_________________________________________________________________\n",
            "Layer (type)                 Output Shape              Param #   \n",
            "=================================================================\n",
            "input_1 (InputLayer)         (None, 20, 16, 21, 17)    0         \n",
            "_________________________________________________________________\n",
            "conv_lst_m2d_1 (ConvLSTM2D)  (None, 20, 14, 18, 32)    75392     \n",
            "_________________________________________________________________\n",
            "dropout_1 (Dropout)          (None, 20, 14, 18, 32)    0         \n",
            "_________________________________________________________________\n",
            "conv_lst_m2d_2 (ConvLSTM2D)  (None, 20, 12, 15, 64)    295168    \n",
            "_________________________________________________________________\n",
            "dropout_2 (Dropout)          (None, 20, 12, 15, 64)    0         \n",
            "_________________________________________________________________\n",
            "conv_lst_m2d_3 (ConvLSTM2D)  (None, 20, 10, 12, 128)   1180160   \n",
            "_________________________________________________________________\n",
            "dropout_3 (Dropout)          (None, 20, 10, 12, 128)   0         \n",
            "_________________________________________________________________\n",
            "conv_lst_m2d_4 (ConvLSTM2D)  (None, 20, 9, 9, 256)     3146752   \n",
            "_________________________________________________________________\n",
            "dropout_4 (Dropout)          (None, 20, 9, 9, 256)     0         \n",
            "_________________________________________________________________\n",
            "conv_lst_m2d_5 (ConvLSTM2D)  (None, 20, 7, 7, 512)     14157824  \n",
            "_________________________________________________________________\n",
            "flatten_1 (Flatten)          (None, 501760)            0         \n",
            "_________________________________________________________________\n",
            "dense_1 (Dense)              (None, 256)               128450816 \n",
            "_________________________________________________________________\n",
            "dense_2 (Dense)              (None, 3)                 771       \n",
            "=================================================================\n",
            "Total params: 147,306,883\n",
            "Trainable params: 147,306,883\n",
            "Non-trainable params: 0\n",
            "_________________________________________________________________\n"
          ],
          "name": "stdout"
        }
      ]
    },
    {
      "cell_type": "markdown",
      "metadata": {
        "id": "G7yzMc3su5_M",
        "colab_type": "text"
      },
      "source": [
        "This below code contains some functions which are used in splitting the data into test and train and training the model.<br/>\n",
        "Note:Again the save directory is to be manipulated according to your need.\n"
      ]
    },
    {
      "cell_type": "code",
      "metadata": {
        "id": "BjZLtks64Shn",
        "colab_type": "code",
        "colab": {}
      },
      "source": [
        "def create_test_and_train(train_dir ,classes = None):\n",
        "    fnames = get_fnames(train_dir ,classes)\n",
        "    random.shuffle(fnames)\n",
        "    test = fnames[:200]\n",
        "    del fnames[:200]\n",
        "    print('test set is created')\n",
        "    return test,fnames\n",
        "def get_fnames(train_dir ,classes = None):\n",
        "    if classes is None:\n",
        "        classes = os.listdir(train_dir)\n",
        "    fnames = []\n",
        "    for class_ in classes:\n",
        "        class_dir  =os.path.join(train_dir ,class_)\n",
        "        folders = os.listdir(class_dir)\n",
        "        for folder in folders:\n",
        "            folder_dir = os.path.join(class_dir ,folder)\n",
        "            fnames.append(folder_dir)\n",
        "    return fnames\n",
        "def get_encoding(num ,num_classes = 3):\n",
        "    encoding = np.zeros(num_classes)\n",
        "    encoding[num] = 1\n",
        "    return encoding\n",
        "def train(fnames ,dict_ ,model ,batch_size = 70):\n",
        "    batches = len(fnames)//batch_size\n",
        "    print(batches)\n",
        "    for batch in range(batches):\n",
        "        X = []\n",
        "        Y = []\n",
        "        try:\n",
        "            fdirs = fnames[batch*batch_size:(batch+1)*batch_size]\n",
        "        except:\n",
        "            fdirs = fnames[batch*batch_size:]\n",
        "        print('creating X,Y for batch no {}...'.format(batch))\n",
        "        for fdir in fdirs:\n",
        "            files = os.listdir(fdir)\n",
        "            x=[]\n",
        "            for file_ in files:\n",
        "                arr = np.load(os.path.join(fdir ,file_))\n",
        "                x.append(np.squeeze(arr ,axis = 0))\n",
        "            print('{} loaded'.format(fdir))\n",
        "            if get_encoding(dict_.get(fdir)) is not None:\n",
        "                X.append(x)\n",
        "                Y.append(get_encoding(dict_.get(fdir)))\n",
        "            else:\n",
        "                print('None label encounteres')\n",
        "        X = np.asarray(X)\n",
        "        Y = np.asarray(Y)\n",
        "        print(X.shape)\n",
        "        print('batch {}'.format(batch))\n",
        "        model.fit(X ,Y ,verbose = 1 ,batch_size = 2 ,epochs = 20)\n",
        "        model.save('/content/gdrive/My Drive/project_pose/model.h5')\n",
        "    return test"
      ],
      "execution_count": 0,
      "outputs": []
    },
    {
      "cell_type": "code",
      "metadata": {
        "id": "X1fVeDsLIe_L",
        "colab_type": "code",
        "colab": {}
      },
      "source": [
        "test ,fnames = create_test_and_train(train_dir ,classes = classes)\n",
        "test = train(fnames ,dict_ ,model)"
      ],
      "execution_count": 0,
      "outputs": []
    },
    {
      "cell_type": "markdown",
      "metadata": {
        "id": "mbaCr3q7vZJa",
        "colab_type": "text"
      },
      "source": [
        "Loading the trained model."
      ]
    },
    {
      "cell_type": "code",
      "metadata": {
        "id": "59GouTCoTAXz",
        "colab_type": "code",
        "colab": {}
      },
      "source": [
        "model = load_model('/content/gdrive/My Drive/project_pose/model.h5' ,custom_objects = {'focal_loss' : my_loss(2.0 ,1.5)})"
      ],
      "execution_count": 0,
      "outputs": []
    },
    {
      "cell_type": "markdown",
      "metadata": {
        "id": "aCjYwZWzvcwd",
        "colab_type": "text"
      },
      "source": [
        "Creating test set from test names that are extracted from dataset earlier"
      ]
    },
    {
      "cell_type": "code",
      "metadata": {
        "id": "fAlpULP8A9aY",
        "colab_type": "code",
        "outputId": "48fb771a-2268-4701-f2e8-a88fcc8008bd",
        "colab": {
          "base_uri": "https://localhost:8080/",
          "height": 1000
        }
      },
      "source": [
        "X_test = []\n",
        "Y_test = []\n",
        "for  i,folder in enumerate(test):\n",
        "    files =os.listdir(folder)\n",
        "    x = []\n",
        "    for file_ in files:\n",
        "        file_dir = os.path.join(folder ,file_ )\n",
        "        arr = np.load(file_dir)\n",
        "        x.append(np.squeeze(arr ,axis = 0))\n",
        "    print('{} {} loaded'.format(i ,folder))\n",
        "    X_test.append(x)\n",
        "    Y_test.append(dict_.get(folder))\n",
        "X_test = np.asarray(X_test)\n",
        "Y_test = np.asarray(Y_test)"
      ],
      "execution_count": 14,
      "outputs": [
        {
          "output_type": "stream",
          "text": [
            "0 /content/gdrive/My Drive/project_pose/pose/HorseRace/folder752 loaded\n",
            "1 /content/gdrive/My Drive/project_pose/pose/drumming/folder1287 loaded\n",
            "2 /content/gdrive/My Drive/project_pose/pose/punching/folder1058 loaded\n",
            "3 /content/gdrive/My Drive/project_pose/pose/HorseRace/folder944 loaded\n",
            "4 /content/gdrive/My Drive/project_pose/pose/HorseRace/folder771 loaded\n",
            "5 /content/gdrive/My Drive/project_pose/pose/drumming/folder321 loaded\n",
            "6 /content/gdrive/My Drive/project_pose/pose/drumming/folder252 loaded\n",
            "7 /content/gdrive/My Drive/project_pose/pose/drumming/folder602 loaded\n",
            "8 /content/gdrive/My Drive/project_pose/pose/punching/folder661 loaded\n",
            "9 /content/gdrive/My Drive/project_pose/pose/HorseRace/folder873 loaded\n",
            "10 /content/gdrive/My Drive/project_pose/pose/HorseRace/folder542 loaded\n",
            "11 /content/gdrive/My Drive/project_pose/pose/drumming/folder366 loaded\n",
            "12 /content/gdrive/My Drive/project_pose/pose/HorseRace/folder499 loaded\n",
            "13 /content/gdrive/My Drive/project_pose/pose/HorseRace/folder457 loaded\n",
            "14 /content/gdrive/My Drive/project_pose/pose/HorseRace/folder1172 loaded\n",
            "15 /content/gdrive/My Drive/project_pose/pose/HorseRace/folder1392 loaded\n",
            "16 /content/gdrive/My Drive/project_pose/pose/drumming/folder348 loaded\n",
            "17 /content/gdrive/My Drive/project_pose/pose/punching/folder614 loaded\n",
            "18 /content/gdrive/My Drive/project_pose/pose/drumming/folder1687 loaded\n",
            "19 /content/gdrive/My Drive/project_pose/pose/drumming/folder884 loaded\n",
            "20 /content/gdrive/My Drive/project_pose/pose/drumming/folder367 loaded\n",
            "21 /content/gdrive/My Drive/project_pose/pose/HorseRace/folder1847 loaded\n",
            "22 /content/gdrive/My Drive/project_pose/pose/punching/folder1193 loaded\n",
            "23 /content/gdrive/My Drive/project_pose/pose/punching/folder970 loaded\n",
            "24 /content/gdrive/My Drive/project_pose/pose/drumming/folder856 loaded\n",
            "25 /content/gdrive/My Drive/project_pose/pose/drumming/folder1920 loaded\n",
            "26 /content/gdrive/My Drive/project_pose/pose/punching/folder874 loaded\n",
            "27 /content/gdrive/My Drive/project_pose/pose/punching/folder980 loaded\n",
            "28 /content/gdrive/My Drive/project_pose/pose/HorseRace/folder1900 loaded\n",
            "29 /content/gdrive/My Drive/project_pose/pose/HorseRace/folder422 loaded\n",
            "30 /content/gdrive/My Drive/project_pose/pose/HorseRace/folder1168 loaded\n",
            "31 /content/gdrive/My Drive/project_pose/pose/drumming/folder722 loaded\n",
            "32 /content/gdrive/My Drive/project_pose/pose/drumming/folder66 loaded\n",
            "33 /content/gdrive/My Drive/project_pose/pose/HorseRace/folder578 loaded\n",
            "34 /content/gdrive/My Drive/project_pose/pose/HorseRace/folder509 loaded\n",
            "35 /content/gdrive/My Drive/project_pose/pose/punching/folder849 loaded\n",
            "36 /content/gdrive/My Drive/project_pose/pose/punching/folder948 loaded\n",
            "37 /content/gdrive/My Drive/project_pose/pose/drumming/folder1477 loaded\n",
            "38 /content/gdrive/My Drive/project_pose/pose/HorseRace/folder725 loaded\n",
            "39 /content/gdrive/My Drive/project_pose/pose/HorseRace/folder612 loaded\n",
            "40 /content/gdrive/My Drive/project_pose/pose/HorseRace/folder1512 loaded\n",
            "41 /content/gdrive/My Drive/project_pose/pose/punching/folder1503 loaded\n",
            "42 /content/gdrive/My Drive/project_pose/pose/punching/folder1026 loaded\n",
            "43 /content/gdrive/My Drive/project_pose/pose/drumming/folder848 loaded\n",
            "44 /content/gdrive/My Drive/project_pose/pose/HorseRace/folder1275 loaded\n",
            "45 /content/gdrive/My Drive/project_pose/pose/punching/folder260 loaded\n",
            "46 /content/gdrive/My Drive/project_pose/pose/punching/folder1059 loaded\n",
            "47 /content/gdrive/My Drive/project_pose/pose/HorseRace/folder1244 loaded\n",
            "48 /content/gdrive/My Drive/project_pose/pose/HorseRace/folder1618 loaded\n",
            "49 /content/gdrive/My Drive/project_pose/pose/HorseRace/folder1691 loaded\n",
            "50 /content/gdrive/My Drive/project_pose/pose/drumming/folder1315 loaded\n",
            "51 /content/gdrive/My Drive/project_pose/pose/punching/folder1523 loaded\n",
            "52 /content/gdrive/My Drive/project_pose/pose/drumming/folder1824 loaded\n",
            "53 /content/gdrive/My Drive/project_pose/pose/punching/folder1012 loaded\n",
            "54 /content/gdrive/My Drive/project_pose/pose/drumming/folder621 loaded\n",
            "55 /content/gdrive/My Drive/project_pose/pose/HorseRace/folder856 loaded\n",
            "56 /content/gdrive/My Drive/project_pose/pose/HorseRace/folder1425 loaded\n",
            "57 /content/gdrive/My Drive/project_pose/pose/HorseRace/folder1708 loaded\n",
            "58 /content/gdrive/My Drive/project_pose/pose/drumming/folder554 loaded\n",
            "59 /content/gdrive/My Drive/project_pose/pose/punching/folder674 loaded\n",
            "60 /content/gdrive/My Drive/project_pose/pose/drumming/folder917 loaded\n",
            "61 /content/gdrive/My Drive/project_pose/pose/HorseRace/folder842 loaded\n",
            "62 /content/gdrive/My Drive/project_pose/pose/punching/folder66 loaded\n",
            "63 /content/gdrive/My Drive/project_pose/pose/drumming/folder1448 loaded\n",
            "64 /content/gdrive/My Drive/project_pose/pose/drumming/folder607 loaded\n",
            "65 /content/gdrive/My Drive/project_pose/pose/drumming/folder315 loaded\n",
            "66 /content/gdrive/My Drive/project_pose/pose/drumming/folder711 loaded\n",
            "67 /content/gdrive/My Drive/project_pose/pose/punching/folder755 loaded\n",
            "68 /content/gdrive/My Drive/project_pose/pose/drumming/folder1548 loaded\n",
            "69 /content/gdrive/My Drive/project_pose/pose/punching/folder1128 loaded\n",
            "70 /content/gdrive/My Drive/project_pose/pose/punching/folder191 loaded\n",
            "71 /content/gdrive/My Drive/project_pose/pose/punching/folder1418 loaded\n",
            "72 /content/gdrive/My Drive/project_pose/pose/punching/folder1037 loaded\n",
            "73 /content/gdrive/My Drive/project_pose/pose/drumming/folder317 loaded\n",
            "74 /content/gdrive/My Drive/project_pose/pose/drumming/folder365 loaded\n",
            "75 /content/gdrive/My Drive/project_pose/pose/HorseRace/folder1415 loaded\n",
            "76 /content/gdrive/My Drive/project_pose/pose/HorseRace/folder903 loaded\n",
            "77 /content/gdrive/My Drive/project_pose/pose/HorseRace/folder828 loaded\n",
            "78 /content/gdrive/My Drive/project_pose/pose/drumming/folder661 loaded\n",
            "79 /content/gdrive/My Drive/project_pose/pose/HorseRace/folder1240 loaded\n",
            "80 /content/gdrive/My Drive/project_pose/pose/drumming/folder1922 loaded\n",
            "81 /content/gdrive/My Drive/project_pose/pose/drumming/folder915 loaded\n",
            "82 /content/gdrive/My Drive/project_pose/pose/drumming/folder14 loaded\n",
            "83 /content/gdrive/My Drive/project_pose/pose/drumming/folder665 loaded\n",
            "84 /content/gdrive/My Drive/project_pose/pose/drumming/folder1360 loaded\n",
            "85 /content/gdrive/My Drive/project_pose/pose/drumming/folder728 loaded\n",
            "86 /content/gdrive/My Drive/project_pose/pose/drumming/folder778 loaded\n",
            "87 /content/gdrive/My Drive/project_pose/pose/HorseRace/folder917 loaded\n",
            "88 /content/gdrive/My Drive/project_pose/pose/HorseRace/folder1488 loaded\n",
            "89 /content/gdrive/My Drive/project_pose/pose/HorseRace/folder1890 loaded\n",
            "90 /content/gdrive/My Drive/project_pose/pose/HorseRace/folder1653 loaded\n",
            "91 /content/gdrive/My Drive/project_pose/pose/punching/folder1156 loaded\n",
            "92 /content/gdrive/My Drive/project_pose/pose/drumming/folder1024 loaded\n",
            "93 /content/gdrive/My Drive/project_pose/pose/drumming/folder662 loaded\n",
            "94 /content/gdrive/My Drive/project_pose/pose/HorseRace/folder1597 loaded\n",
            "95 /content/gdrive/My Drive/project_pose/pose/drumming/folder485 loaded\n",
            "96 /content/gdrive/My Drive/project_pose/pose/punching/folder812 loaded\n",
            "97 /content/gdrive/My Drive/project_pose/pose/punching/folder1158 loaded\n",
            "98 /content/gdrive/My Drive/project_pose/pose/drumming/folder145 loaded\n",
            "99 /content/gdrive/My Drive/project_pose/pose/drumming/folder976 loaded\n",
            "100 /content/gdrive/My Drive/project_pose/pose/drumming/folder1629 loaded\n",
            "101 /content/gdrive/My Drive/project_pose/pose/drumming/folder1212 loaded\n",
            "102 /content/gdrive/My Drive/project_pose/pose/punching/folder900 loaded\n",
            "103 /content/gdrive/My Drive/project_pose/pose/punching/folder544 loaded\n",
            "104 /content/gdrive/My Drive/project_pose/pose/HorseRace/folder1457 loaded\n",
            "105 /content/gdrive/My Drive/project_pose/pose/drumming/folder977 loaded\n",
            "106 /content/gdrive/My Drive/project_pose/pose/drumming/folder1828 loaded\n",
            "107 /content/gdrive/My Drive/project_pose/pose/HorseRace/folder1166 loaded\n",
            "108 /content/gdrive/My Drive/project_pose/pose/drumming/folder863 loaded\n",
            "109 /content/gdrive/My Drive/project_pose/pose/punching/folder1182 loaded\n",
            "110 /content/gdrive/My Drive/project_pose/pose/drumming/folder956 loaded\n",
            "111 /content/gdrive/My Drive/project_pose/pose/punching/folder604 loaded\n",
            "112 /content/gdrive/My Drive/project_pose/pose/punching/folder567 loaded\n",
            "113 /content/gdrive/My Drive/project_pose/pose/drumming/folder1446 loaded\n",
            "114 /content/gdrive/My Drive/project_pose/pose/drumming/folder1023 loaded\n",
            "115 /content/gdrive/My Drive/project_pose/pose/HorseRace/folder720 loaded\n",
            "116 /content/gdrive/My Drive/project_pose/pose/HorseRace/folder959 loaded\n",
            "117 /content/gdrive/My Drive/project_pose/pose/drumming/folder1918 loaded\n",
            "118 /content/gdrive/My Drive/project_pose/pose/punching/folder628 loaded\n",
            "119 /content/gdrive/My Drive/project_pose/pose/HorseRace/folder1152 loaded\n",
            "120 /content/gdrive/My Drive/project_pose/pose/HorseRace/folder1214 loaded\n",
            "121 /content/gdrive/My Drive/project_pose/pose/HorseRace/folder954 loaded\n",
            "122 /content/gdrive/My Drive/project_pose/pose/drumming/folder844 loaded\n",
            "123 /content/gdrive/My Drive/project_pose/pose/drumming/folder1134 loaded\n",
            "124 /content/gdrive/My Drive/project_pose/pose/drumming/folder120 loaded\n",
            "125 /content/gdrive/My Drive/project_pose/pose/punching/folder1390 loaded\n",
            "126 /content/gdrive/My Drive/project_pose/pose/punching/folder136 loaded\n",
            "127 /content/gdrive/My Drive/project_pose/pose/HorseRace/folder401 loaded\n",
            "128 /content/gdrive/My Drive/project_pose/pose/HorseRace/folder768 loaded\n",
            "129 /content/gdrive/My Drive/project_pose/pose/drumming/folder877 loaded\n",
            "130 /content/gdrive/My Drive/project_pose/pose/drumming/folder1556 loaded\n",
            "131 /content/gdrive/My Drive/project_pose/pose/HorseRace/folder1100 loaded\n",
            "132 /content/gdrive/My Drive/project_pose/pose/punching/folder1509 loaded\n",
            "133 /content/gdrive/My Drive/project_pose/pose/HorseRace/folder766 loaded\n",
            "134 /content/gdrive/My Drive/project_pose/pose/HorseRace/folder1042 loaded\n",
            "135 /content/gdrive/My Drive/project_pose/pose/HorseRace/folder1232 loaded\n",
            "136 /content/gdrive/My Drive/project_pose/pose/punching/folder845 loaded\n",
            "137 /content/gdrive/My Drive/project_pose/pose/drumming/folder1595 loaded\n",
            "138 /content/gdrive/My Drive/project_pose/pose/HorseRace/folder407 loaded\n",
            "139 /content/gdrive/My Drive/project_pose/pose/drumming/folder383 loaded\n",
            "140 /content/gdrive/My Drive/project_pose/pose/punching/folder1438 loaded\n",
            "141 /content/gdrive/My Drive/project_pose/pose/drumming/folder1941 loaded\n",
            "142 /content/gdrive/My Drive/project_pose/pose/drumming/folder562 loaded\n",
            "143 /content/gdrive/My Drive/project_pose/pose/HorseRace/folder912 loaded\n",
            "144 /content/gdrive/My Drive/project_pose/pose/drumming/folder325 loaded\n",
            "145 /content/gdrive/My Drive/project_pose/pose/punching/folder1419 loaded\n",
            "146 /content/gdrive/My Drive/project_pose/pose/punching/folder1452 loaded\n",
            "147 /content/gdrive/My Drive/project_pose/pose/drumming/folder1652 loaded\n",
            "148 /content/gdrive/My Drive/project_pose/pose/drumming/folder107 loaded\n",
            "149 /content/gdrive/My Drive/project_pose/pose/punching/folder679 loaded\n",
            "150 /content/gdrive/My Drive/project_pose/pose/drumming/folder362 loaded\n",
            "151 /content/gdrive/My Drive/project_pose/pose/drumming/folder97 loaded\n",
            "152 /content/gdrive/My Drive/project_pose/pose/HorseRace/folder1376 loaded\n",
            "153 /content/gdrive/My Drive/project_pose/pose/HorseRace/folder1356 loaded\n",
            "154 /content/gdrive/My Drive/project_pose/pose/drumming/folder905 loaded\n",
            "155 /content/gdrive/My Drive/project_pose/pose/HorseRace/folder1684 loaded\n",
            "156 /content/gdrive/My Drive/project_pose/pose/punching/folder1517 loaded\n",
            "157 /content/gdrive/My Drive/project_pose/pose/HorseRace/folder1292 loaded\n",
            "158 /content/gdrive/My Drive/project_pose/pose/drumming/folder666 loaded\n",
            "159 /content/gdrive/My Drive/project_pose/pose/HorseRace/folder637 loaded\n",
            "160 /content/gdrive/My Drive/project_pose/pose/HorseRace/folder1073 loaded\n",
            "161 /content/gdrive/My Drive/project_pose/pose/drumming/folder1956 loaded\n",
            "162 /content/gdrive/My Drive/project_pose/pose/drumming/folder932 loaded\n",
            "163 /content/gdrive/My Drive/project_pose/pose/drumming/folder1753 loaded\n",
            "164 /content/gdrive/My Drive/project_pose/pose/HorseRace/folder1027 loaded\n",
            "165 /content/gdrive/My Drive/project_pose/pose/HorseRace/folder1398 loaded\n",
            "166 /content/gdrive/My Drive/project_pose/pose/drumming/folder999 loaded\n",
            "167 /content/gdrive/My Drive/project_pose/pose/drumming/folder124 loaded\n",
            "168 /content/gdrive/My Drive/project_pose/pose/HorseRace/folder1206 loaded\n",
            "169 /content/gdrive/My Drive/project_pose/pose/drumming/folder1789 loaded\n",
            "170 /content/gdrive/My Drive/project_pose/pose/drumming/folder405 loaded\n",
            "171 /content/gdrive/My Drive/project_pose/pose/HorseRace/folder813 loaded\n",
            "172 /content/gdrive/My Drive/project_pose/pose/drumming/folder401 loaded\n",
            "173 /content/gdrive/My Drive/project_pose/pose/punching/folder1514 loaded\n",
            "174 /content/gdrive/My Drive/project_pose/pose/drumming/folder821 loaded\n",
            "175 /content/gdrive/My Drive/project_pose/pose/punching/folder1415 loaded\n",
            "176 /content/gdrive/My Drive/project_pose/pose/drumming/folder1787 loaded\n",
            "177 /content/gdrive/My Drive/project_pose/pose/HorseRace/folder564 loaded\n",
            "178 /content/gdrive/My Drive/project_pose/pose/HorseRace/folder459 loaded\n",
            "179 /content/gdrive/My Drive/project_pose/pose/HorseRace/folder1064 loaded\n",
            "180 /content/gdrive/My Drive/project_pose/pose/punching/folder841 loaded\n",
            "181 /content/gdrive/My Drive/project_pose/pose/drumming/folder1829 loaded\n",
            "182 /content/gdrive/My Drive/project_pose/pose/drumming/folder1158 loaded\n",
            "183 /content/gdrive/My Drive/project_pose/pose/drumming/folder776 loaded\n",
            "184 /content/gdrive/My Drive/project_pose/pose/HorseRace/folder1563 loaded\n",
            "185 /content/gdrive/My Drive/project_pose/pose/HorseRace/folder721 loaded\n",
            "186 /content/gdrive/My Drive/project_pose/pose/drumming/folder939 loaded\n",
            "187 /content/gdrive/My Drive/project_pose/pose/drumming/folder390 loaded\n",
            "188 /content/gdrive/My Drive/project_pose/pose/HorseRace/folder1030 loaded\n",
            "189 /content/gdrive/My Drive/project_pose/pose/drumming/folder1124 loaded\n",
            "190 /content/gdrive/My Drive/project_pose/pose/punching/folder1054 loaded\n",
            "191 /content/gdrive/My Drive/project_pose/pose/HorseRace/folder871 loaded\n",
            "192 /content/gdrive/My Drive/project_pose/pose/HorseRace/folder1248 loaded\n",
            "193 /content/gdrive/My Drive/project_pose/pose/drumming/folder1760 loaded\n",
            "194 /content/gdrive/My Drive/project_pose/pose/punching/folder1277 loaded\n",
            "195 /content/gdrive/My Drive/project_pose/pose/drumming/folder32 loaded\n",
            "196 /content/gdrive/My Drive/project_pose/pose/drumming/folder1505 loaded\n",
            "197 /content/gdrive/My Drive/project_pose/pose/HorseRace/folder1487 loaded\n",
            "198 /content/gdrive/My Drive/project_pose/pose/drumming/folder1526 loaded\n",
            "199 /content/gdrive/My Drive/project_pose/pose/drumming/folder1205 loaded\n"
          ],
          "name": "stdout"
        }
      ]
    },
    {
      "cell_type": "markdown",
      "metadata": {
        "id": "jZCJCjh7vpZd",
        "colab_type": "text"
      },
      "source": [
        "Converting them to encodings\n"
      ]
    },
    {
      "cell_type": "code",
      "metadata": {
        "id": "dfKMTzUFf1_W",
        "colab_type": "code",
        "colab": {}
      },
      "source": [
        "Y_true_en = []\n",
        "for i in range(Y_test.shape[0]):\n",
        "    Y_true_en.append(get_encoding(Y_test[i]))\n",
        "Y_true_en = np.asarray(Y_true_en)"
      ],
      "execution_count": 0,
      "outputs": []
    },
    {
      "cell_type": "markdown",
      "metadata": {
        "id": "G77k4f38vs4X",
        "colab_type": "text"
      },
      "source": [
        "Evaluating the trained model.<br/>\n",
        "We got around 92% of accuracy as of now."
      ]
    },
    {
      "cell_type": "code",
      "metadata": {
        "id": "FHJigaCD65zY",
        "colab_type": "code",
        "outputId": "4506c5c8-5c72-4d44-90ba-887017ea076a",
        "colab": {
          "base_uri": "https://localhost:8080/",
          "height": 50
        }
      },
      "source": [
        "model.evaluate(X_test ,Y_true_en)"
      ],
      "execution_count": 17,
      "outputs": [
        {
          "output_type": "stream",
          "text": [
            "200/200 [==============================] - 13s 65ms/step\n"
          ],
          "name": "stdout"
        },
        {
          "output_type": "execute_result",
          "data": {
            "text/plain": [
              "[0.08056090474128723, 0.9200000166893005]"
            ]
          },
          "metadata": {
            "tags": []
          },
          "execution_count": 17
        }
      ]
    },
    {
      "cell_type": "code",
      "metadata": {
        "id": "KfWoLq8J_f84",
        "colab_type": "code",
        "colab": {}
      },
      "source": [
        "y_pred = model.predict(X_test)"
      ],
      "execution_count": 0,
      "outputs": []
    },
    {
      "cell_type": "code",
      "metadata": {
        "id": "eBNKIUrN_ka6",
        "colab_type": "code",
        "colab": {}
      },
      "source": [
        "def decode(arr):\n",
        "    m = arr.shape[0]\n",
        "    arr_ = np.zeros(m)\n",
        "    for i in range(m):\n",
        "        arr_[i] = np.argmax(arr[i])\n",
        "    return arr_\n",
        "y_pred_de = decode(y_pred)"
      ],
      "execution_count": 0,
      "outputs": []
    },
    {
      "cell_type": "code",
      "metadata": {
        "id": "qETvoMcawuYe",
        "colab_type": "code",
        "outputId": "d5c3ec98-afaa-4e90-a175-4249180f3c76",
        "colab": {
          "base_uri": "https://localhost:8080/",
          "height": 184
        }
      },
      "source": [
        "Y_test"
      ],
      "execution_count": 20,
      "outputs": [
        {
          "output_type": "execute_result",
          "data": {
            "text/plain": [
              "array([2, 0, 1, 2, 2, 0, 0, 0, 1, 2, 2, 0, 2, 2, 2, 2, 0, 1, 0, 0, 0, 2,\n",
              "       1, 1, 0, 0, 1, 1, 2, 2, 2, 0, 0, 2, 2, 1, 1, 0, 2, 2, 2, 1, 1, 0,\n",
              "       2, 1, 1, 2, 2, 2, 0, 1, 0, 1, 0, 2, 2, 2, 0, 1, 0, 2, 1, 0, 0, 0,\n",
              "       0, 1, 0, 1, 1, 1, 1, 0, 0, 2, 2, 2, 0, 2, 0, 0, 0, 0, 0, 0, 0, 2,\n",
              "       2, 2, 2, 1, 0, 0, 2, 0, 1, 1, 0, 0, 0, 0, 1, 1, 2, 0, 0, 2, 0, 1,\n",
              "       0, 1, 1, 0, 0, 2, 2, 0, 1, 2, 2, 2, 0, 0, 0, 1, 1, 2, 2, 0, 0, 2,\n",
              "       1, 2, 2, 2, 1, 0, 2, 0, 1, 0, 0, 2, 0, 1, 1, 0, 0, 1, 0, 0, 2, 2,\n",
              "       0, 2, 1, 2, 0, 2, 2, 0, 0, 0, 2, 2, 0, 0, 2, 0, 0, 2, 0, 1, 0, 1,\n",
              "       0, 2, 2, 2, 1, 0, 0, 0, 2, 2, 0, 0, 2, 0, 1, 2, 2, 0, 1, 0, 0, 2,\n",
              "       0, 0])"
            ]
          },
          "metadata": {
            "tags": []
          },
          "execution_count": 20
        }
      ]
    },
    {
      "cell_type": "markdown",
      "metadata": {
        "id": "PKFMOUj-v4Jj",
        "colab_type": "text"
      },
      "source": [
        "Calculating some standard metrics"
      ]
    },
    {
      "cell_type": "code",
      "metadata": {
        "id": "e04LDehY7Hm0",
        "colab_type": "code",
        "outputId": "afb93a3b-0797-4817-ee20-f329116d927a",
        "colab": {
          "base_uri": "https://localhost:8080/",
          "height": 84
        }
      },
      "source": [
        "acc_score = accuracy_score(Y_test ,y_pred_de)\n",
        "pre_score = precision_score(Y_test ,y_pred_de,average = 'micro')\n",
        "recall = recall_score(Y_test ,y_pred_de ,average = 'micro')\n",
        "f1 = f1_score(Y_test ,y_pred_de ,average = 'micro')\n",
        "\n",
        "print('accuracy score : {}'.format(acc_score))\n",
        "print('precision score : {}'.format(pre_score))\n",
        "print('recall score : {}'.format(recall))\n",
        "print('f1 score : {}'.format(f1))"
      ],
      "execution_count": 21,
      "outputs": [
        {
          "output_type": "stream",
          "text": [
            "accuracy score : 0.92\n",
            "precision score : 0.92\n",
            "recall score : 0.92\n",
            "f1 score : 0.92\n"
          ],
          "name": "stdout"
        }
      ]
    },
    {
      "cell_type": "markdown",
      "metadata": {
        "id": "9eo_HHpSv9h9",
        "colab_type": "text"
      },
      "source": [
        "Plotting the confusion matrix."
      ]
    },
    {
      "cell_type": "code",
      "metadata": {
        "id": "n-p07UoS_yik",
        "colab_type": "code",
        "outputId": "f9386d7d-1cd5-47ac-b93e-9fdce3285ec1",
        "colab": {
          "base_uri": "https://localhost:8080/",
          "height": 336
        }
      },
      "source": [
        "k = confusion_matrix(Y_test ,y_pred_de)\n",
        "print(k)\n",
        "plt.imshow(k ,cmap = 'gray')"
      ],
      "execution_count": 22,
      "outputs": [
        {
          "output_type": "stream",
          "text": [
            "[[80  3  3]\n",
            " [ 8 37  0]\n",
            " [ 1  1 67]]\n"
          ],
          "name": "stdout"
        },
        {
          "output_type": "execute_result",
          "data": {
            "text/plain": [
              "<matplotlib.image.AxesImage at 0x7f8b95518da0>"
            ]
          },
          "metadata": {
            "tags": []
          },
          "execution_count": 22
        },
        {
          "output_type": "display_data",
          "data": {
            "image/png": "[encoded data removed]",
            "text/plain": [
              "<Figure size 432x288 with 1 Axes>"
            ]
          },
          "metadata": {
            "tags": [],
            "needs_background": "light"
          }
        }
      ]
    }
  ]
}